{
 "cells": [
  {
   "cell_type": "markdown",
   "metadata": {},
   "source": [
    "# Milestone Project 1: Walkthrough Steps Workbook\n",
    "\n",
    "Below is a set of steps for you to follow to try to create the Tic Tac Toe Milestone Project game!"
   ]
  },
  {
   "cell_type": "markdown",
   "metadata": {},
   "source": [
    "#### Some suggested tools before you get started:\n",
    "To take input from a user:\n",
    "\n",
    "    player1 = input(\"Please pick a marker 'X' or 'O'\")\n",
    "    \n",
    "Note that input() takes in a string. If you need an integer value, use\n",
    "\n",
    "    position = int(input('Please enter a number'))\n",
    "    \n",
    "<br>To clear the screen between moves:\n",
    "\n",
    "    from IPython.display import clear_output\n",
    "    clear_output()\n",
    "    \n",
    "Note that clear_output() will only work in jupyter. To clear the screen in other IDEs, consider:\n",
    "\n",
    "    print('\\n'*100)\n",
    "    \n",
    "This scrolls the previous board up out of view. Now on to the program!"
   ]
  },
  {
   "cell_type": "markdown",
   "metadata": {},
   "source": [
    "**Step 1: Write a function that can print out a board. Set up your board as a list, where each index 1-9 corresponds with a number on a number pad, so you get a 3 by 3 board representation.**"
   ]
  },
  {
   "cell_type": "code",
   "execution_count": 4,
   "metadata": {},
   "outputs": [
    {
     "name": "stdout",
     "output_type": "stream",
     "text": [
      " \n",
      "              X | O | X\n",
      "             --- --- --- \n",
      "              O | X | O\n",
      "             --- --- --- \n",
      "              X | O | X \n",
      "              \n",
      "              \n"
     ]
    }
   ],
   "source": [
    "from IPython.display import clear_output\n",
    "\n",
    "test_board = ['#','X','O','X','O','X','O','X','O','X']\n",
    "\n",
    "def display_board(board):\n",
    "    matrix = {\n",
    "        'one': board[1], \n",
    "        'two': board[2],\n",
    "        'three' : board[3],\n",
    "        'four' : board[4],\n",
    "        'five' : board[5],\n",
    "        'six' : board[6],\n",
    "        'seven' : board[7],\n",
    "        'eight' : board[8],\n",
    "        'nine' : board[9]\n",
    "    }\n",
    "    \n",
    "    \n",
    "    print(\"\"\" \n",
    "              {} | {} | {}\n",
    "             --- --- --- \n",
    "              {} | {} | {}\n",
    "             --- --- --- \n",
    "              {} | {} | {} \n",
    "              \n",
    "              \"\"\".format(matrix['one'],matrix['two'],matrix['three'],matrix['four'],matrix['five'],\n",
    "                         matrix['six'],matrix['seven'],matrix['eight'],matrix['nine']))\n",
    "display_board(test_board)"
   ]
  },
  {
   "cell_type": "markdown",
   "metadata": {},
   "source": [
    "**TEST Step 1:** run your function on a test version of the board list, and make adjustments as necessary"
   ]
  },
  {
   "cell_type": "code",
   "execution_count": 5,
   "metadata": {},
   "outputs": [
    {
     "name": "stdout",
     "output_type": "stream",
     "text": [
      " \n",
      "              X | O | X\n",
      "             --- --- --- \n",
      "              O | X | O\n",
      "             --- --- --- \n",
      "              X | O | X \n",
      "              \n",
      "              \n"
     ]
    }
   ],
   "source": [
    "test_board = ['#','X','O','X','O','X','O','X','O','X']\n",
    "display_board(test_board)"
   ]
  },
  {
   "cell_type": "markdown",
   "metadata": {},
   "source": [
    "**Step 2: Write a function that can take in a player input and assign their marker as 'X' or 'O'. Think about using *while* loops to continually ask until you get a correct answer.**"
   ]
  },
  {
   "cell_type": "code",
   "execution_count": 6,
   "metadata": {},
   "outputs": [],
   "source": [
    "def player_input():\n",
    "    ready1 = False\n",
    "    ready2 = False\n",
    "    while ready1 == False:\n",
    "        player_select = input(\"Are you Player one or two? [1,2] \")\n",
    "        player_nr = int(player_select)\n",
    "        if player_nr in range(1,3):\n",
    "            ready1 = True\n",
    "            if player_nr == 1:\n",
    "                marker = \"X\"\n",
    "            else:\n",
    "                marker = \"O\"\n",
    "    \n",
    "    while ready2 == False:\n",
    "        next_turn = input(f\"Player {player_select} state your next turn : \")\n",
    "        next_move = int(next_turn)\n",
    "        if next_move in range(1,9):\n",
    "            ready2 = True\n",
    "    print(f'This is Player {player_select} and he is playing this move: {next_move} using this icon {marker}')"
   ]
  },
  {
   "cell_type": "markdown",
   "metadata": {},
   "source": [
    "**TEST Step 2:** run the function to make sure it returns the desired output"
   ]
  },
  {
   "cell_type": "code",
   "execution_count": 7,
   "metadata": {},
   "outputs": [
    {
     "name": "stdout",
     "output_type": "stream",
     "text": [
      "Are you Player one or two? [1,2] 1\n",
      "Player 1 state your next turn : 2\n",
      "This is Player 1 and he is playing this move: 2 using this icon X\n"
     ]
    }
   ],
   "source": [
    "player_input()"
   ]
  },
  {
   "cell_type": "markdown",
   "metadata": {},
   "source": [
    "**Step 3: Write a function that takes in the board list object, a marker ('X' or 'O'), and a desired position (number 1-9) and assigns it to the board.**"
   ]
  },
  {
   "cell_type": "code",
   "execution_count": 8,
   "metadata": {},
   "outputs": [],
   "source": [
    "def place_marker(board, marker, position):\n",
    "    board[position] = marker\n",
    "    \n"
   ]
  },
  {
   "cell_type": "markdown",
   "metadata": {},
   "source": [
    "**TEST Step 3:** run the place marker function using test parameters and display the modified board"
   ]
  },
  {
   "cell_type": "code",
   "execution_count": 9,
   "metadata": {},
   "outputs": [
    {
     "name": "stdout",
     "output_type": "stream",
     "text": [
      " \n",
      "              X | O | X\n",
      "             --- --- --- \n",
      "              O | X | O\n",
      "             --- --- --- \n",
      "              X | O | X \n",
      "              \n",
      "              \n"
     ]
    }
   ],
   "source": [
    "place_marker(test_board,'O',8)\n",
    "display_board(test_board)"
   ]
  },
  {
   "cell_type": "markdown",
   "metadata": {},
   "source": [
    "**Step 4: Write a function that takes in a board and a mark (X or O) and then checks to see if that mark has won. **"
   ]
  },
  {
   "cell_type": "code",
   "execution_count": 34,
   "metadata": {},
   "outputs": [],
   "source": [
    "def win_check(board, mark):\n",
    "    winner_list = [board[1:4],board[4:7],board[7:10],board[1:8:3],board[2:10:3],board[3:10:3],board[1:10:4],board[3:8:2]]\n",
    "    if [mark,mark,mark] in winner_list:\n",
    "        return True\n",
    "    else:\n",
    "        return False"
   ]
  },
  {
   "cell_type": "markdown",
   "metadata": {},
   "source": [
    "**TEST Step 4:** run the win_check function against our test_board - it should return True"
   ]
  },
  {
   "cell_type": "markdown",
   "metadata": {},
   "source": [
    "**Step 5: Write a function that uses the random module to randomly decide which player goes first. You may want to lookup random.randint() Return a string of which player went first.**"
   ]
  },
  {
   "cell_type": "code",
   "execution_count": 13,
   "metadata": {},
   "outputs": [],
   "source": [
    "import random\n",
    "\n",
    "def choose_first():\n",
    "    import random\n",
    "    if random.randint(0,10)%2 > 0:\n",
    "        return 'Player 1'\n",
    "    else:\n",
    "        return 'Player 2'\n"
   ]
  },
  {
   "cell_type": "code",
   "execution_count": 14,
   "metadata": {},
   "outputs": [
    {
     "data": {
      "text/plain": [
       "'Player 1'"
      ]
     },
     "execution_count": 14,
     "metadata": {},
     "output_type": "execute_result"
    }
   ],
   "source": [
    "choose_first()"
   ]
  },
  {
   "cell_type": "markdown",
   "metadata": {},
   "source": [
    "**Step 6: Write a function that returns a boolean indicating whether a space on the board is freely available.**"
   ]
  },
  {
   "cell_type": "code",
   "execution_count": 27,
   "metadata": {},
   "outputs": [],
   "source": [
    "def space_check(board, position):\n",
    "    #print(board[position])\n",
    "    return (board[position] != \"O\" and board[position] != \"X\") \n"
   ]
  },
  {
   "cell_type": "code",
   "execution_count": 28,
   "metadata": {},
   "outputs": [
    {
     "data": {
      "text/plain": [
       "False"
      ]
     },
     "execution_count": 28,
     "metadata": {},
     "output_type": "execute_result"
    }
   ],
   "source": [
    "test_board = ['#', \"\", 'O', 'X', 'O', 'X', 'O', 'X', 'X', 'X']\n",
    "\n",
    "space_check(test_board,2)"
   ]
  },
  {
   "cell_type": "markdown",
   "metadata": {},
   "source": [
    "**Step 7: Write a function that checks if the board is full and returns a boolean value. True if full, False otherwise.**"
   ]
  },
  {
   "cell_type": "code",
   "execution_count": 29,
   "metadata": {},
   "outputs": [],
   "source": [
    "def full_board_check(board):\n",
    "    return \"\" not in board\n",
    "    "
   ]
  },
  {
   "cell_type": "code",
   "execution_count": 30,
   "metadata": {},
   "outputs": [
    {
     "data": {
      "text/plain": [
       "False"
      ]
     },
     "execution_count": 30,
     "metadata": {},
     "output_type": "execute_result"
    }
   ],
   "source": [
    "full_board_check(test_board)"
   ]
  },
  {
   "cell_type": "markdown",
   "metadata": {},
   "source": [
    "**Step 8: Write a function that asks for a player's next position (as a number 1-9) and then uses the function from step 6 to check if it's a free position. If it is, then return the position for later use.**"
   ]
  },
  {
   "cell_type": "code",
   "execution_count": 41,
   "metadata": {},
   "outputs": [],
   "source": [
    "def player_choice(board):\n",
    "    my_repeat = True\n",
    "    while my_repeat: \n",
    "        what_next = int(input('What is your next move [1-9]? '))\n",
    "        if what_next not in list(range(1,10)): \n",
    "            my_repeat = True\n",
    "            pass\n",
    "        elif space_check(test_board,int(what_next)):\n",
    "                my_repeat = False\n",
    "                return what_next\n",
    "        my_repeat = True\n",
    "                                "
   ]
  },
  {
   "cell_type": "code",
   "execution_count": 43,
   "metadata": {},
   "outputs": [
    {
     "name": "stdout",
     "output_type": "stream",
     "text": [
      "['#', '', 'O', 'X', 'O', 'X', 'O', 'X', 'X', 'X']\n",
      "What is your next move [1-9]? 12\n",
      "What is your next move [1-9]? 13\n",
      "What is your next move [1-9]? 9\n",
      "What is your next move [1-9]? 2\n",
      "What is your next move [1-9]? 1\n"
     ]
    },
    {
     "data": {
      "text/plain": [
       "1"
      ]
     },
     "execution_count": 43,
     "metadata": {},
     "output_type": "execute_result"
    }
   ],
   "source": [
    "\n",
    "print(test_board)\n",
    "player_choice(test_board)\n",
    "#space_check(test_board,1)"
   ]
  },
  {
   "cell_type": "markdown",
   "metadata": {},
   "source": [
    "**Step 9: Write a function that asks the player if they want to play again and returns a boolean True if they do want to play again.**"
   ]
  },
  {
   "cell_type": "code",
   "execution_count": 45,
   "metadata": {},
   "outputs": [],
   "source": [
    "def replay():\n",
    "    return 'y' == input('You ant to go again [y/n]? ')"
   ]
  },
  {
   "cell_type": "code",
   "execution_count": 47,
   "metadata": {},
   "outputs": [
    {
     "name": "stdout",
     "output_type": "stream",
     "text": [
      "You ant to go again [y/n]? y\n"
     ]
    },
    {
     "data": {
      "text/plain": [
       "True"
      ]
     },
     "execution_count": 47,
     "metadata": {},
     "output_type": "execute_result"
    }
   ],
   "source": [
    "replay()"
   ]
  },
  {
   "cell_type": "markdown",
   "metadata": {
    "collapsed": true
   },
   "source": [
    "**Step 10: Here comes the hard part! Use while loops and the functions you've made to run the game!**"
   ]
  },
  {
   "cell_type": "code",
   "execution_count": 37,
   "metadata": {},
   "outputs": [
    {
     "name": "stdout",
     "output_type": "stream",
     "text": [
      "Are you Player one [X] or two [O]? [1,2] 2\n",
      "Welcome to Tic Tac Toe! See the empty Board, the world is your Oyster\n",
      "\n",
      "                |   |  \n",
      "             --- --- ---\n",
      "                |   |  \n",
      "             --- --- ---\n",
      "                |   |  \n",
      "\n",
      "              \n",
      "Player 1 your turn\n",
      "What is your next move [1-9]? 1\n",
      "\n",
      "              O |   |  \n",
      "             --- --- ---\n",
      "                |   |  \n",
      "             --- --- ---\n",
      "                |   |  \n",
      "\n",
      "              \n",
      "Player 2 your turn\n",
      "What is your next move [1-9]? 2\n",
      "\n",
      "              O | X |  \n",
      "             --- --- ---\n",
      "                |   |  \n",
      "             --- --- ---\n",
      "                |   |  \n",
      "\n",
      "              \n",
      "Player 1 your turn\n",
      "What is your next move [1-9]? 5\n",
      "\n",
      "              O | X |  \n",
      "             --- --- ---\n",
      "                | O |  \n",
      "             --- --- ---\n",
      "                |   |  \n",
      "\n",
      "              \n",
      "Player 2 your turn\n",
      "What is your next move [1-9]? 3\n",
      "\n",
      "              O | X | X\n",
      "             --- --- ---\n",
      "                | O |  \n",
      "             --- --- ---\n",
      "                |   |  \n",
      "\n",
      "              \n",
      "Player 1 your turn\n",
      "What is your next move [1-9]? 9\n",
      "\n",
      "              O | X | X\n",
      "             --- --- ---\n",
      "                | O |  \n",
      "             --- --- ---\n",
      "                |   | O\n",
      "\n",
      "              \n",
      "You Win Player 1\n",
      "\n",
      "              O | X | X\n",
      "             --- --- ---\n",
      "                | O |  \n",
      "             --- --- ---\n",
      "                |   | O\n",
      "\n",
      "              \n",
      "You want to go again [y/n]? n\n",
      "thank you for playing\n"
     ]
    }
   ],
   "source": [
    "def display_board(board):\n",
    "    matrix = {\n",
    "        'one': board[1],\n",
    "        'two': board[2],\n",
    "        'three' : board[3],\n",
    "        'four' : board[4],\n",
    "        'five' : board[5],\n",
    "        'six' : board[6],\n",
    "        'seven' : board[7],\n",
    "        'eight' : board[8],\n",
    "        'nine' : board[9]\n",
    "    }\n",
    "\n",
    "\n",
    "    print(\"\"\"\n",
    "              {} | {} | {}\n",
    "             --- --- ---\n",
    "              {} | {} | {}\n",
    "             --- --- ---\n",
    "              {} | {} | {}\n",
    "\n",
    "              \"\"\".format(matrix['one'],matrix['two'],matrix['three'],matrix['four'],matrix['five'],\n",
    "                         matrix['six'],matrix['seven'],matrix['eight'],matrix['nine']))\n",
    "\n",
    "def player_input():\n",
    "    ready1 = False\n",
    "    ready2 = False\n",
    "    while ready1 == False:\n",
    "        player_select = input(\"Are you Player one [X] or two [O]? [1,2] \")\n",
    "        player_nr = int(player_select)\n",
    "        if player_nr in range(1,3):\n",
    "            ready1 = True\n",
    "            if player_nr == 1:\n",
    "                return \"X\"\n",
    "            else:\n",
    "                return \"O\"\n",
    "\n",
    "            ready2 = True\n",
    "\n",
    "def place_marker(board, marker, position):\n",
    "    board[int(position)] = marker\n",
    "\n",
    "def win_check(board, mark):\n",
    "    winner_list = [board[1:4],board[4:7],board[7:10],board[1:8:3],board[2:10:3],board[3:10:3],board[1:10:4],board[3:8:2]]\n",
    "    if [mark,mark,mark] in winner_list:\n",
    "        return True\n",
    "    else:\n",
    "        return False\n",
    "\n",
    "def choose_first():\n",
    "    import random\n",
    "    if random.randint(0,10)%2 > 0:\n",
    "        return int(1)\n",
    "    else:\n",
    "        return int(2)\n",
    "\n",
    "def space_check(board, position):\n",
    "    #print(board[position])\n",
    "    return (board[position] != \"O\" and board[position] != \"X\")\n",
    "\n",
    "def full_board_check(board):\n",
    "    return \" \" not in board\n",
    "\n",
    "\n",
    "def player_choice(board):\n",
    "    my_repeat = True\n",
    "    while my_repeat:\n",
    "        what_next = int(input('What is your next move [1-9]? '))\n",
    "        if what_next not in list(range(1,10)):\n",
    "            my_repeat = True\n",
    "            pass\n",
    "        elif space_check(board,what_next):\n",
    "                my_repeat = False\n",
    "                return int(what_next)\n",
    "        elif full_board_check:\n",
    "            break\n",
    "        my_repeat = True\n",
    "\n",
    "\n",
    "def replay():\n",
    "    return 'y' == input('You want to go again [y/n]? ')\n",
    "\n",
    "\n",
    "\n",
    "active_player = choose_first()\n",
    "marker_player1 = player_input()\n",
    "if marker_player1 == 'X':\n",
    "    marker_player2 = 'O'\n",
    "else:\n",
    "    marker_player2 = 'X'\n",
    "\n",
    "while True:\n",
    "\n",
    "    print('Welcome to Tic Tac Toe! See the empty Board, the world is your Oyster')\n",
    "    play_board = ['#',' ',' ',' ',' ',' ',' ',' ',' ',' ']\n",
    "    display_board(play_board)\n",
    "\n",
    "    while not full_board_check(play_board):\n",
    "\n",
    "        print('Player 1 your turn')\n",
    "        move1 = player_choice(play_board)\n",
    "        place_marker(play_board,marker_player1,move1)\n",
    "        display_board(play_board)\n",
    "        if win_check(play_board,marker_player1):\n",
    "            print('You Win Player 1')\n",
    "            display_board(play_board)\n",
    "            break\n",
    "\n",
    "        print('Player 2 your turn')\n",
    "        move2 = player_choice(play_board)\n",
    "        place_marker(play_board,marker_player2,move2)\n",
    "        display_board(play_board)\n",
    "        if win_check(play_board,marker_player2):\n",
    "            print('You Win Player 2')\n",
    "            display_board(play_board)\n",
    "            break\n",
    "\n",
    "        if full_board_check(play_board):\n",
    "            print('Neither of you won - you are either equally smart or dumb')\n",
    "            break\n",
    "\n",
    "    if replay() == False:\n",
    "        print('thank you for playing')\n",
    "        break\n"
   ]
  },
  {
   "cell_type": "markdown",
   "metadata": {
    "collapsed": true
   },
   "source": [
    "## Good Job!"
   ]
  }
 ],
 "metadata": {
  "kernelspec": {
   "display_name": "Python 3",
   "language": "python",
   "name": "python3"
  },
  "language_info": {
   "codemirror_mode": {
    "name": "ipython",
    "version": 3
   },
   "file_extension": ".py",
   "mimetype": "text/x-python",
   "name": "python",
   "nbconvert_exporter": "python",
   "pygments_lexer": "ipython3",
   "version": "3.6.8"
  }
 },
 "nbformat": 4,
 "nbformat_minor": 1
}
